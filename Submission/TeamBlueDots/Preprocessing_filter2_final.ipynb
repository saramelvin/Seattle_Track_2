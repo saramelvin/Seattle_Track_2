{
 "cells": [
  {
   "cell_type": "markdown",
   "metadata": {},
   "source": [
    "# DATA CLEANING"
   ]
  },
  {
   "cell_type": "code",
   "execution_count": 2,
   "metadata": {},
   "outputs": [],
   "source": [
    "import pandas as pd\n",
    "from datetime import timedelta, date\n",
    "import matplotlib.pyplot as plt\n",
    "import numpy as np\n",
    "import math\n",
    "from numpy import radians as rad\n",
    "from numpy import sin, cos, sqrt, arcsin"
   ]
  },
  {
   "cell_type": "code",
   "execution_count": 3,
   "metadata": {},
   "outputs": [],
   "source": [
    "df = pd.read_csv('../Data/AIS_LA_SD_Jan_1_to_15_2016_Filtered_by_Proximity.csv')"
   ]
  },
  {
   "cell_type": "code",
   "execution_count": 4,
   "metadata": {},
   "outputs": [],
   "source": [
    "#This converts the time metric to a datetime object that can be easily subtracted\n",
    "df['Timestamp_1'] = pd.to_datetime(df['Timestamp_1'], errors='coerce') #coerce causes NaT for all out-of-bound dates\n",
    "df['Timestamp_2'] = pd.to_datetime(df['Timestamp_2'], errors='coerce') #coerce causes NaT for all out-of-bound dates\n",
    "#df['BaseDateTime'] = pd.to_datetime(df['BaseDateTime'])"
   ]
  },
  {
   "cell_type": "code",
   "execution_count": 5,
   "metadata": {},
   "outputs": [
    {
     "data": {
      "text/html": [
       "<div>\n",
       "<style scoped>\n",
       "    .dataframe tbody tr th:only-of-type {\n",
       "        vertical-align: middle;\n",
       "    }\n",
       "\n",
       "    .dataframe tbody tr th {\n",
       "        vertical-align: top;\n",
       "    }\n",
       "\n",
       "    .dataframe thead th {\n",
       "        text-align: right;\n",
       "    }\n",
       "</style>\n",
       "<table border=\"1\" class=\"dataframe\">\n",
       "  <thead>\n",
       "    <tr style=\"text-align: right;\">\n",
       "      <th></th>\n",
       "      <th>ID</th>\n",
       "      <th>MMSI_1</th>\n",
       "      <th>Timestamp_1</th>\n",
       "      <th>LAT_1</th>\n",
       "      <th>LON_1</th>\n",
       "      <th>SOG_1</th>\n",
       "      <th>COG_1</th>\n",
       "      <th>Heading_1</th>\n",
       "      <th>Vessel Name_1</th>\n",
       "      <th>IMO_1</th>\n",
       "      <th>...</th>\n",
       "      <th>Heading_2</th>\n",
       "      <th>Vessel Name_2</th>\n",
       "      <th>IMO_2</th>\n",
       "      <th>Call Sign_2</th>\n",
       "      <th>Vessel Type_2</th>\n",
       "      <th>Status_2</th>\n",
       "      <th>Length_2</th>\n",
       "      <th>Width_2</th>\n",
       "      <th>Draft_2</th>\n",
       "      <th>Cargo_2</th>\n",
       "    </tr>\n",
       "  </thead>\n",
       "  <tbody>\n",
       "    <tr>\n",
       "      <th>0</th>\n",
       "      <td>271</td>\n",
       "      <td>338115083</td>\n",
       "      <td>2016-01-01 00:00:04</td>\n",
       "      <td>33.60957</td>\n",
       "      <td>-117.88857</td>\n",
       "      <td>0.0</td>\n",
       "      <td>0.0</td>\n",
       "      <td>511</td>\n",
       "      <td>VILLAGE BLACKSMITH</td>\n",
       "      <td></td>\n",
       "      <td>...</td>\n",
       "      <td>511</td>\n",
       "      <td>BUCKET LIST</td>\n",
       "      <td></td>\n",
       "      <td></td>\n",
       "      <td>1019</td>\n",
       "      <td></td>\n",
       "      <td>11.55</td>\n",
       "      <td>4</td>\n",
       "      <td></td>\n",
       "      <td></td>\n",
       "    </tr>\n",
       "    <tr>\n",
       "      <th>1</th>\n",
       "      <td>272</td>\n",
       "      <td>338115083</td>\n",
       "      <td>2016-01-01 00:00:04</td>\n",
       "      <td>33.60957</td>\n",
       "      <td>-117.88857</td>\n",
       "      <td>0.0</td>\n",
       "      <td>0.0</td>\n",
       "      <td>511</td>\n",
       "      <td>VILLAGE BLACKSMITH</td>\n",
       "      <td></td>\n",
       "      <td>...</td>\n",
       "      <td>511</td>\n",
       "      <td></td>\n",
       "      <td></td>\n",
       "      <td></td>\n",
       "      <td></td>\n",
       "      <td></td>\n",
       "      <td></td>\n",
       "      <td></td>\n",
       "      <td></td>\n",
       "      <td></td>\n",
       "    </tr>\n",
       "    <tr>\n",
       "      <th>2</th>\n",
       "      <td>285</td>\n",
       "      <td>367344710</td>\n",
       "      <td>2016-01-01 00:00:16</td>\n",
       "      <td>33.61489</td>\n",
       "      <td>-117.91451</td>\n",
       "      <td>0.1</td>\n",
       "      <td>-167.7</td>\n",
       "      <td>28</td>\n",
       "      <td>SERENGETI</td>\n",
       "      <td></td>\n",
       "      <td>...</td>\n",
       "      <td>24</td>\n",
       "      <td>KIMBERLY</td>\n",
       "      <td></td>\n",
       "      <td>V7NN2</td>\n",
       "      <td>1019</td>\n",
       "      <td>moored</td>\n",
       "      <td>31.88</td>\n",
       "      <td>7.3</td>\n",
       "      <td></td>\n",
       "      <td>37</td>\n",
       "    </tr>\n",
       "    <tr>\n",
       "      <th>3</th>\n",
       "      <td>314</td>\n",
       "      <td>338138623</td>\n",
       "      <td>2016-01-01 00:00:17</td>\n",
       "      <td>34.40718</td>\n",
       "      <td>-119.69170</td>\n",
       "      <td>0.0</td>\n",
       "      <td>100.4</td>\n",
       "      <td>511</td>\n",
       "      <td>GINGER</td>\n",
       "      <td></td>\n",
       "      <td>...</td>\n",
       "      <td>511</td>\n",
       "      <td>COJO</td>\n",
       "      <td></td>\n",
       "      <td></td>\n",
       "      <td>1001</td>\n",
       "      <td></td>\n",
       "      <td></td>\n",
       "      <td></td>\n",
       "      <td></td>\n",
       "      <td></td>\n",
       "    </tr>\n",
       "    <tr>\n",
       "      <th>4</th>\n",
       "      <td>315</td>\n",
       "      <td>338138623</td>\n",
       "      <td>2016-01-01 00:00:17</td>\n",
       "      <td>34.40718</td>\n",
       "      <td>-119.69170</td>\n",
       "      <td>0.0</td>\n",
       "      <td>100.4</td>\n",
       "      <td>511</td>\n",
       "      <td>GINGER</td>\n",
       "      <td></td>\n",
       "      <td>...</td>\n",
       "      <td>511</td>\n",
       "      <td>CONCEPTION</td>\n",
       "      <td></td>\n",
       "      <td>WYR8548</td>\n",
       "      <td>1012</td>\n",
       "      <td></td>\n",
       "      <td>22.86</td>\n",
       "      <td>7.6</td>\n",
       "      <td></td>\n",
       "      <td></td>\n",
       "    </tr>\n",
       "  </tbody>\n",
       "</table>\n",
       "<p>5 rows × 33 columns</p>\n",
       "</div>"
      ],
      "text/plain": [
       "    ID     MMSI_1         Timestamp_1     LAT_1      LON_1  SOG_1  COG_1  \\\n",
       "0  271  338115083 2016-01-01 00:00:04  33.60957 -117.88857    0.0    0.0   \n",
       "1  272  338115083 2016-01-01 00:00:04  33.60957 -117.88857    0.0    0.0   \n",
       "2  285  367344710 2016-01-01 00:00:16  33.61489 -117.91451    0.1 -167.7   \n",
       "3  314  338138623 2016-01-01 00:00:17  34.40718 -119.69170    0.0  100.4   \n",
       "4  315  338138623 2016-01-01 00:00:17  34.40718 -119.69170    0.0  100.4   \n",
       "\n",
       "   Heading_1        Vessel Name_1 IMO_1   ...    Heading_2 Vessel Name_2  \\\n",
       "0        511   VILLAGE BLACKSMITH         ...          511   BUCKET LIST   \n",
       "1        511   VILLAGE BLACKSMITH         ...          511                 \n",
       "2         28            SERENGETI         ...           24      KIMBERLY   \n",
       "3        511               GINGER         ...          511          COJO   \n",
       "4        511               GINGER         ...          511    CONCEPTION   \n",
       "\n",
       "  IMO_2 Call Sign_2 Vessel Type_2 Status_2 Length_2  Width_2 Draft_2  Cargo_2  \n",
       "0                            1019             11.55        4                   \n",
       "1                                                                              \n",
       "2             V7NN2          1019   moored    31.88      7.3               37  \n",
       "3                            1001                                              \n",
       "4           WYR8548          1012             22.86      7.6                   \n",
       "\n",
       "[5 rows x 33 columns]"
      ]
     },
     "execution_count": 5,
     "metadata": {},
     "output_type": "execute_result"
    }
   ],
   "source": [
    "df.head()"
   ]
  },
  {
   "cell_type": "code",
   "execution_count": 6,
   "metadata": {},
   "outputs": [
    {
     "name": "stdout",
     "output_type": "stream",
     "text": [
      "(1517, 3)\n"
     ]
    }
   ],
   "source": [
    "# Connect each row of data with each other to show a close proximity over time between two ships\n",
    "sorted_df = df.sort_values(by=['MMSI_1', 'MMSI_2', 'Timestamp_1', 'Timestamp_2']).reset_index(drop = True)\n",
    "#print(sorted_df.iloc[0])\n",
    "grouped_df = sorted_df.groupby(['MMSI_1','MMSI_2'])['Timestamp_1'].count().reset_index(name=\"count\")\n",
    "#How many have only one data point for the proximity alert?\n",
    "print(grouped_df.loc[grouped_df[\"count\"]==1].shape) #potential single instances that we have to make a determination if a COLREG or not"
   ]
  },
  {
   "cell_type": "code",
   "execution_count": 40,
   "metadata": {},
   "outputs": [],
   "source": [
    "#TESTING A INSTANCE OF OIL TANKERS THAT HAVE 552 CASES OF BEING IN CLOSE PROXIMITY TO ONE ANOTHER\n",
    "out_path = '../Data/oil_tanker_question.xlsx'\n",
    "subset_tankers = sorted_df.loc[(sorted_df['MMSI_1'] == 636014465) & (sorted_df['MMSI_2'] == 636014804)]\n",
    "writer = pd.ExcelWriter(out_path)\n",
    "subset_tankers.to_excel(writer, 'oil_tankers')\n",
    "writer.save()\n",
    "# Multiple pings for each ship within one half hour -- reduce to \"final location\"\n",
    "#sorted_df.sort_values(by = ['BaseDateTime_Rounded', 'MMSI'])"
   ]
  },
  {
   "cell_type": "markdown",
   "metadata": {},
   "source": [
    "# Filter out instances that are definitely NOT collision potential situations"
   ]
  },
  {
   "cell_type": "code",
   "execution_count": 8,
   "metadata": {},
   "outputs": [
    {
     "name": "stdout",
     "output_type": "stream",
     "text": [
      "(86552, 33)\n"
     ]
    },
    {
     "data": {
      "text/plain": [
       "0    0.233319\n",
       "1    0.834871\n",
       "2    0.656948\n",
       "3    0.594427\n",
       "4    0.527467\n",
       "Name: distance, dtype: float64"
      ]
     },
     "execution_count": 8,
     "metadata": {},
     "output_type": "execute_result"
    }
   ],
   "source": [
    "#TESTING DISTANCE\n",
    "R = 6372.8\n",
    "def haversine(coord1, coord2):\n",
    "    dLat = radians(coord2[0] - coord1[0])\n",
    "    dLon = radians(coord2[1]-coord1[1])\n",
    "    lat1 = radians(coord1[0])\n",
    "    lat2 = radians(coord2[0])\n",
    "    a = sin(dLat/2)**2+cos(lat1)*cos(lat2)*sin(dLon/2)**2\n",
    "    c=2*asin(sqrt(a))\n",
    "    return R*c\n",
    "\n",
    "#Find out if the ships fall under these safe circumstances. \n",
    "#If so, then we should remove them from potential collision issues\n",
    "print(sorted_df.shape)\n",
    "\n",
    "sorted_df['LAT_1_rad'] = rad(sorted_df['LAT_1'])\n",
    "sorted_df['LAT_2_rad'] = rad(sorted_df['LAT_2'])\n",
    "sorted_df['LON_1_rad'] = rad(sorted_df['LON_1'])\n",
    "sorted_df['LON_2_rad'] = rad(sorted_df['LON_2'])\n",
    "sorted_df['dLAT'] = sorted_df['LAT_2_rad']-sorted_df['LAT_1_rad'] \n",
    "sorted_df['dLON'] = sorted_df['LON_2_rad']-sorted_df['LON_1_rad'] \n",
    "\n",
    "sorted_df['distance'] = R*2*arcsin(sqrt(sin(sorted_df['dLAT']/2)**2+cos(sorted_df['LAT_1_rad'])*cos(sorted_df['LAT_2_rad'])*sin(sorted_df['dLON']/2)**2))\n",
    "sorted_df['distance'].head()"
   ]
  },
  {
   "cell_type": "code",
   "execution_count": 9,
   "metadata": {},
   "outputs": [
    {
     "name": "stdout",
     "output_type": "stream",
     "text": [
      "(10504, 40)\n"
     ]
    }
   ],
   "source": [
    "#When both ships are stationary, we do not have a potential collision so we can remove those from our dataset\n",
    "sorted_df_moving = sorted_df.loc[(sorted_df['SOG_1'] > 0.1) & (sorted_df['SOG_2']>0.1)]\n",
    "print(sorted_df_moving.shape)"
   ]
  },
  {
   "cell_type": "code",
   "execution_count": 10,
   "metadata": {},
   "outputs": [
    {
     "name": "stdout",
     "output_type": "stream",
     "text": [
      "(9934, 40)\n"
     ]
    }
   ],
   "source": [
    "#when both ships are moving in the same direction at the same speed, they are not in danger of colliding\n",
    "crit1 = abs(sorted_df_moving['COG_1']-sorted_df_moving['COG_2'])>=1\n",
    "crit2 = abs(sorted_df_moving['SOG_1']-sorted_df_moving['SOG_2'])>=0.1\n",
    "sorted_df_moving_not_together = sorted_df_moving[crit1 | crit2]\n",
    "print(sorted_df_moving_not_together.shape)"
   ]
  },
  {
   "cell_type": "markdown",
   "metadata": {},
   "source": [
    "# Now find COLREGs"
   ]
  },
  {
   "cell_type": "code",
   "execution_count": 11,
   "metadata": {},
   "outputs": [
    {
     "name": "stderr",
     "output_type": "stream",
     "text": [
      "/Users/saramelvin/anaconda3/lib/python3.6/site-packages/ipykernel_launcher.py:2: SettingWithCopyWarning: \n",
      "A value is trying to be set on a copy of a slice from a DataFrame.\n",
      "Try using .loc[row_indexer,col_indexer] = value instead\n",
      "\n",
      "See the caveats in the documentation: http://pandas.pydata.org/pandas-docs/stable/indexing.html#indexing-view-versus-copy\n",
      "  \n",
      "/Users/saramelvin/anaconda3/lib/python3.6/site-packages/ipykernel_launcher.py:3: SettingWithCopyWarning: \n",
      "A value is trying to be set on a copy of a slice from a DataFrame.\n",
      "Try using .loc[row_indexer,col_indexer] = value instead\n",
      "\n",
      "See the caveats in the documentation: http://pandas.pydata.org/pandas-docs/stable/indexing.html#indexing-view-versus-copy\n",
      "  This is separate from the ipykernel package so we can avoid doing imports until\n",
      "/Users/saramelvin/anaconda3/lib/python3.6/site-packages/ipykernel_launcher.py:4: SettingWithCopyWarning: \n",
      "A value is trying to be set on a copy of a slice from a DataFrame.\n",
      "Try using .loc[row_indexer,col_indexer] = value instead\n",
      "\n",
      "See the caveats in the documentation: http://pandas.pydata.org/pandas-docs/stable/indexing.html#indexing-view-versus-copy\n",
      "  after removing the cwd from sys.path.\n",
      "/Users/saramelvin/anaconda3/lib/python3.6/site-packages/ipykernel_launcher.py:5: SettingWithCopyWarning: \n",
      "A value is trying to be set on a copy of a slice from a DataFrame.\n",
      "Try using .loc[row_indexer,col_indexer] = value instead\n",
      "\n",
      "See the caveats in the documentation: http://pandas.pydata.org/pandas-docs/stable/indexing.html#indexing-view-versus-copy\n",
      "  \"\"\"\n"
     ]
    }
   ],
   "source": [
    "#calculate the distance between two ships and their new lats and longs\n",
    "sorted_df_moving_not_together[\"Y_CORD_1\"] = np.cos(sorted_df_moving_not_together['COG_1']) #need to swap x and y coordinates from normal unit circle because of COG set up where the true north\n",
    "sorted_df_moving_not_together[\"X_CORD_1\"] = np.sin(sorted_df_moving_not_together['COG_1'])\n",
    "sorted_df_moving_not_together[\"Y_CORD_2\"] = np.cos(sorted_df_moving_not_together['COG_2']) #need to swap x and y coordinates from normal unit circle because of COG set up where the true north\n",
    "sorted_df_moving_not_together[\"X_CORD_2\"] = np.sin(sorted_df_moving_not_together['COG_2'])"
   ]
  },
  {
   "cell_type": "code",
   "execution_count": 12,
   "metadata": {},
   "outputs": [
    {
     "data": {
      "text/plain": [
       "0    0.264931\n",
       "1    0.976011\n",
       "2   -0.141984\n",
       "3    0.543288\n",
       "4   -0.846212\n",
       "Name: Y_CORD_1, dtype: float64"
      ]
     },
     "execution_count": 12,
     "metadata": {},
     "output_type": "execute_result"
    }
   ],
   "source": [
    "sorted_df_moving_not_together[\"Y_CORD_1\"].head()"
   ]
  },
  {
   "cell_type": "code",
   "execution_count": 13,
   "metadata": {},
   "outputs": [
    {
     "name": "stderr",
     "output_type": "stream",
     "text": [
      "/Users/saramelvin/anaconda3/lib/python3.6/site-packages/ipykernel_launcher.py:1: SettingWithCopyWarning: \n",
      "A value is trying to be set on a copy of a slice from a DataFrame.\n",
      "Try using .loc[row_indexer,col_indexer] = value instead\n",
      "\n",
      "See the caveats in the documentation: http://pandas.pydata.org/pandas-docs/stable/indexing.html#indexing-view-versus-copy\n",
      "  \"\"\"Entry point for launching an IPython kernel.\n",
      "/Users/saramelvin/anaconda3/lib/python3.6/site-packages/ipykernel_launcher.py:2: SettingWithCopyWarning: \n",
      "A value is trying to be set on a copy of a slice from a DataFrame.\n",
      "Try using .loc[row_indexer,col_indexer] = value instead\n",
      "\n",
      "See the caveats in the documentation: http://pandas.pydata.org/pandas-docs/stable/indexing.html#indexing-view-versus-copy\n",
      "  \n",
      "/Users/saramelvin/anaconda3/lib/python3.6/site-packages/ipykernel_launcher.py:3: SettingWithCopyWarning: \n",
      "A value is trying to be set on a copy of a slice from a DataFrame.\n",
      "Try using .loc[row_indexer,col_indexer] = value instead\n",
      "\n",
      "See the caveats in the documentation: http://pandas.pydata.org/pandas-docs/stable/indexing.html#indexing-view-versus-copy\n",
      "  This is separate from the ipykernel package so we can avoid doing imports until\n",
      "/Users/saramelvin/anaconda3/lib/python3.6/site-packages/ipykernel_launcher.py:4: SettingWithCopyWarning: \n",
      "A value is trying to be set on a copy of a slice from a DataFrame.\n",
      "Try using .loc[row_indexer,col_indexer] = value instead\n",
      "\n",
      "See the caveats in the documentation: http://pandas.pydata.org/pandas-docs/stable/indexing.html#indexing-view-versus-copy\n",
      "  after removing the cwd from sys.path.\n"
     ]
    }
   ],
   "source": [
    "sorted_df_moving_not_together['LAT_1_n'] = sorted_df_moving_not_together['LAT_1'] + (180/math.pi)*(sorted_df_moving_not_together[\"Y_CORD_1\"]/R) #Earth Radius\n",
    "sorted_df_moving_not_together['LON_1_n'] = sorted_df_moving_not_together['LON_1'] + np.divide((180/math.pi)*(sorted_df_moving_not_together[\"X_CORD_1\"]/R), np.cos(sorted_df_moving_not_together['LON_1']*math.pi/180)) \n",
    "sorted_df_moving_not_together['LAT_2_n'] = sorted_df_moving_not_together['LAT_2'] + (180/math.pi)*(sorted_df_moving_not_together[\"Y_CORD_2\"]/R) #Earth Radius\n",
    "sorted_df_moving_not_together['LON_2_n'] = sorted_df_moving_not_together['LON_2'] + np.divide((180/math.pi)*(sorted_df_moving_not_together[\"X_CORD_2\"]/R), np.cos(sorted_df_moving_not_together['LON_2']*math.pi/180)) "
   ]
  },
  {
   "cell_type": "code",
   "execution_count": 16,
   "metadata": {},
   "outputs": [
    {
     "name": "stderr",
     "output_type": "stream",
     "text": [
      "/Users/saramelvin/anaconda3/lib/python3.6/site-packages/ipykernel_launcher.py:1: SettingWithCopyWarning: \n",
      "A value is trying to be set on a copy of a slice from a DataFrame.\n",
      "Try using .loc[row_indexer,col_indexer] = value instead\n",
      "\n",
      "See the caveats in the documentation: http://pandas.pydata.org/pandas-docs/stable/indexing.html#indexing-view-versus-copy\n",
      "  \"\"\"Entry point for launching an IPython kernel.\n",
      "/Users/saramelvin/anaconda3/lib/python3.6/site-packages/ipykernel_launcher.py:2: SettingWithCopyWarning: \n",
      "A value is trying to be set on a copy of a slice from a DataFrame.\n",
      "Try using .loc[row_indexer,col_indexer] = value instead\n",
      "\n",
      "See the caveats in the documentation: http://pandas.pydata.org/pandas-docs/stable/indexing.html#indexing-view-versus-copy\n",
      "  \n",
      "/Users/saramelvin/anaconda3/lib/python3.6/site-packages/ipykernel_launcher.py:3: SettingWithCopyWarning: \n",
      "A value is trying to be set on a copy of a slice from a DataFrame.\n",
      "Try using .loc[row_indexer,col_indexer] = value instead\n",
      "\n",
      "See the caveats in the documentation: http://pandas.pydata.org/pandas-docs/stable/indexing.html#indexing-view-versus-copy\n",
      "  This is separate from the ipykernel package so we can avoid doing imports until\n",
      "/Users/saramelvin/anaconda3/lib/python3.6/site-packages/ipykernel_launcher.py:4: SettingWithCopyWarning: \n",
      "A value is trying to be set on a copy of a slice from a DataFrame.\n",
      "Try using .loc[row_indexer,col_indexer] = value instead\n",
      "\n",
      "See the caveats in the documentation: http://pandas.pydata.org/pandas-docs/stable/indexing.html#indexing-view-versus-copy\n",
      "  after removing the cwd from sys.path.\n",
      "/Users/saramelvin/anaconda3/lib/python3.6/site-packages/ipykernel_launcher.py:5: SettingWithCopyWarning: \n",
      "A value is trying to be set on a copy of a slice from a DataFrame.\n",
      "Try using .loc[row_indexer,col_indexer] = value instead\n",
      "\n",
      "See the caveats in the documentation: http://pandas.pydata.org/pandas-docs/stable/indexing.html#indexing-view-versus-copy\n",
      "  \"\"\"\n",
      "/Users/saramelvin/anaconda3/lib/python3.6/site-packages/ipykernel_launcher.py:6: SettingWithCopyWarning: \n",
      "A value is trying to be set on a copy of a slice from a DataFrame.\n",
      "Try using .loc[row_indexer,col_indexer] = value instead\n",
      "\n",
      "See the caveats in the documentation: http://pandas.pydata.org/pandas-docs/stable/indexing.html#indexing-view-versus-copy\n",
      "  \n",
      "/Users/saramelvin/anaconda3/lib/python3.6/site-packages/ipykernel_launcher.py:7: SettingWithCopyWarning: \n",
      "A value is trying to be set on a copy of a slice from a DataFrame.\n",
      "Try using .loc[row_indexer,col_indexer] = value instead\n",
      "\n",
      "See the caveats in the documentation: http://pandas.pydata.org/pandas-docs/stable/indexing.html#indexing-view-versus-copy\n",
      "  import sys\n",
      "/Users/saramelvin/anaconda3/lib/python3.6/site-packages/ipykernel_launcher.py:8: SettingWithCopyWarning: \n",
      "A value is trying to be set on a copy of a slice from a DataFrame.\n",
      "Try using .loc[row_indexer,col_indexer] = value instead\n",
      "\n",
      "See the caveats in the documentation: http://pandas.pydata.org/pandas-docs/stable/indexing.html#indexing-view-versus-copy\n",
      "  \n"
     ]
    }
   ],
   "source": [
    "sorted_df_moving_not_together['LAT_1_rad'] = rad(sorted_df_moving_not_together['LAT_1'])\n",
    "sorted_df_moving_not_together['LON_1_rad'] = rad(sorted_df_moving_not_together['LON_1'])\n",
    "sorted_df_moving_not_together['LAT_2_rad'] = rad(sorted_df_moving_not_together['LAT_2'])\n",
    "sorted_df_moving_not_together['LON_2_rad'] = rad(sorted_df_moving_not_together['LON_2'])\n",
    "sorted_df_moving_not_together['LAT_1_n_rad'] = rad(sorted_df_moving_not_together['LAT_1_n'])\n",
    "sorted_df_moving_not_together['LON_1_n_rad'] = rad(sorted_df_moving_not_together['LON_1_n'])\n",
    "sorted_df_moving_not_together['LAT_2_n_rad'] = rad(sorted_df_moving_not_together['LAT_2_n'])\n",
    "sorted_df_moving_not_together['LON_2_n_rad'] = rad(sorted_df_moving_not_together['LON_2_n'])"
   ]
  },
  {
   "cell_type": "code",
   "execution_count": 17,
   "metadata": {},
   "outputs": [
    {
     "name": "stderr",
     "output_type": "stream",
     "text": [
      "/Users/saramelvin/anaconda3/lib/python3.6/site-packages/ipykernel_launcher.py:2: SettingWithCopyWarning: \n",
      "A value is trying to be set on a copy of a slice from a DataFrame.\n",
      "Try using .loc[row_indexer,col_indexer] = value instead\n",
      "\n",
      "See the caveats in the documentation: http://pandas.pydata.org/pandas-docs/stable/indexing.html#indexing-view-versus-copy\n",
      "  \n",
      "/Users/saramelvin/anaconda3/lib/python3.6/site-packages/ipykernel_launcher.py:3: SettingWithCopyWarning: \n",
      "A value is trying to be set on a copy of a slice from a DataFrame.\n",
      "Try using .loc[row_indexer,col_indexer] = value instead\n",
      "\n",
      "See the caveats in the documentation: http://pandas.pydata.org/pandas-docs/stable/indexing.html#indexing-view-versus-copy\n",
      "  This is separate from the ipykernel package so we can avoid doing imports until\n",
      "/Users/saramelvin/anaconda3/lib/python3.6/site-packages/ipykernel_launcher.py:4: SettingWithCopyWarning: \n",
      "A value is trying to be set on a copy of a slice from a DataFrame.\n",
      "Try using .loc[row_indexer,col_indexer] = value instead\n",
      "\n",
      "See the caveats in the documentation: http://pandas.pydata.org/pandas-docs/stable/indexing.html#indexing-view-versus-copy\n",
      "  after removing the cwd from sys.path.\n"
     ]
    }
   ],
   "source": [
    "#figure out distance between the two new points of 1 and 2\n",
    "sorted_df_moving_not_together['dLAT_n'] = sorted_df_moving_not_together['LAT_2_n_rad']-sorted_df_moving_not_together['LAT_1_n_rad'] \n",
    "sorted_df_moving_not_together['dLON_n'] = sorted_df_moving_not_together['LON_2_n_rad']-sorted_df_moving_not_together['LON_1_n_rad'] \n",
    "sorted_df_moving_not_together['dist_comp_n_1_2'] = R*2*arcsin(sqrt(sin(sorted_df_moving_not_together['dLAT_n']/2)**2+cos(sorted_df_moving_not_together['LAT_1_n_rad'])*cos(sorted_df_moving_not_together['LAT_2_n_rad'])*sin(sorted_df_moving_not_together['dLON_n']/2)**2))"
   ]
  },
  {
   "cell_type": "code",
   "execution_count": 18,
   "metadata": {},
   "outputs": [
    {
     "name": "stderr",
     "output_type": "stream",
     "text": [
      "/Users/saramelvin/anaconda3/lib/python3.6/site-packages/ipykernel_launcher.py:1: SettingWithCopyWarning: \n",
      "A value is trying to be set on a copy of a slice from a DataFrame.\n",
      "Try using .loc[row_indexer,col_indexer] = value instead\n",
      "\n",
      "See the caveats in the documentation: http://pandas.pydata.org/pandas-docs/stable/indexing.html#indexing-view-versus-copy\n",
      "  \"\"\"Entry point for launching an IPython kernel.\n",
      "/Users/saramelvin/anaconda3/lib/python3.6/site-packages/ipykernel_launcher.py:2: SettingWithCopyWarning: \n",
      "A value is trying to be set on a copy of a slice from a DataFrame.\n",
      "Try using .loc[row_indexer,col_indexer] = value instead\n",
      "\n",
      "See the caveats in the documentation: http://pandas.pydata.org/pandas-docs/stable/indexing.html#indexing-view-versus-copy\n",
      "  \n",
      "/Users/saramelvin/anaconda3/lib/python3.6/site-packages/ipykernel_launcher.py:3: SettingWithCopyWarning: \n",
      "A value is trying to be set on a copy of a slice from a DataFrame.\n",
      "Try using .loc[row_indexer,col_indexer] = value instead\n",
      "\n",
      "See the caveats in the documentation: http://pandas.pydata.org/pandas-docs/stable/indexing.html#indexing-view-versus-copy\n",
      "  This is separate from the ipykernel package so we can avoid doing imports until\n"
     ]
    }
   ],
   "source": [
    "sorted_df_moving_not_together['dLAT'] = sorted_df_moving_not_together['LAT_2_rad']-sorted_df_moving_not_together['LAT_1_rad'] \n",
    "sorted_df_moving_not_together['dLON'] = sorted_df_moving_not_together['LON_2_rad']-sorted_df_moving_not_together['LON_1_rad'] \n",
    "sorted_df_moving_not_together['distance'] = R*2*arcsin(sqrt(sin(sorted_df_moving_not_together['dLAT']/2)**2+cos(sorted_df_moving_not_together['LAT_1_rad'])*cos(sorted_df_moving_not_together['LAT_2_rad'])*sin(sorted_df_moving_not_together['dLON']/2)**2))"
   ]
  },
  {
   "cell_type": "code",
   "execution_count": 19,
   "metadata": {},
   "outputs": [
    {
     "name": "stderr",
     "output_type": "stream",
     "text": [
      "/Users/saramelvin/anaconda3/lib/python3.6/site-packages/ipykernel_launcher.py:1: SettingWithCopyWarning: \n",
      "A value is trying to be set on a copy of a slice from a DataFrame.\n",
      "Try using .loc[row_indexer,col_indexer] = value instead\n",
      "\n",
      "See the caveats in the documentation: http://pandas.pydata.org/pandas-docs/stable/indexing.html#indexing-view-versus-copy\n",
      "  \"\"\"Entry point for launching an IPython kernel.\n",
      "/Users/saramelvin/anaconda3/lib/python3.6/site-packages/ipykernel_launcher.py:2: SettingWithCopyWarning: \n",
      "A value is trying to be set on a copy of a slice from a DataFrame.\n",
      "Try using .loc[row_indexer,col_indexer] = value instead\n",
      "\n",
      "See the caveats in the documentation: http://pandas.pydata.org/pandas-docs/stable/indexing.html#indexing-view-versus-copy\n",
      "  \n",
      "/Users/saramelvin/anaconda3/lib/python3.6/site-packages/ipykernel_launcher.py:3: SettingWithCopyWarning: \n",
      "A value is trying to be set on a copy of a slice from a DataFrame.\n",
      "Try using .loc[row_indexer,col_indexer] = value instead\n",
      "\n",
      "See the caveats in the documentation: http://pandas.pydata.org/pandas-docs/stable/indexing.html#indexing-view-versus-copy\n",
      "  This is separate from the ipykernel package so we can avoid doing imports until\n"
     ]
    }
   ],
   "source": [
    "sorted_df_moving_not_together['dLAT1_n'] = sorted_df_moving_not_together['LAT_1_n_rad']-sorted_df_moving_not_together['LAT_1_rad'] \n",
    "sorted_df_moving_not_together['dLON1_n'] = sorted_df_moving_not_together['LON_1_n_rad']-sorted_df_moving_not_together['LON_1_rad'] \n",
    "sorted_df_moving_not_together['dist_comp'] = R*2*arcsin(sqrt(sin(sorted_df_moving_not_together['dLAT1_n']/2)**2+cos(sorted_df_moving_not_together['LAT_1_rad'])*cos(sorted_df_moving_not_together['LAT_1_n_rad'])*sin(sorted_df_moving_not_together['dLON1_n']/2)**2))\n",
    "#THIS SCROLLER IS HARD TO SELECT THINGS SO I ADD AN EXTRA LINE"
   ]
  },
  {
   "cell_type": "code",
   "execution_count": 20,
   "metadata": {},
   "outputs": [
    {
     "name": "stdout",
     "output_type": "stream",
     "text": [
      "10    0.286085\n",
      "11    0.726211\n",
      "12    0.262377\n",
      "13    0.840877\n",
      "14    0.851530\n",
      "15    0.179218\n",
      "16    0.854552\n",
      "17    0.873416\n",
      "18    0.214462\n",
      "19    0.836470\n",
      "Name: distance, dtype: float64\n",
      "10    1.328000\n",
      "11    2.447797\n",
      "12    1.482402\n",
      "13    2.448507\n",
      "14    2.993372\n",
      "15    1.357284\n",
      "16    2.935380\n",
      "17    0.965500\n",
      "18    2.325250\n",
      "19    2.165764\n",
      "Name: dist_comp_n_1_2, dtype: float64\n",
      "10    1.250361\n",
      "11    1.158184\n",
      "12    1.717650\n",
      "13    1.806878\n",
      "14    1.718191\n",
      "15    1.351348\n",
      "16    1.720473\n",
      "17    1.498293\n",
      "18    1.021732\n",
      "19    1.000152\n",
      "Name: dist_comp, dtype: float64\n"
     ]
    }
   ],
   "source": [
    "print(sorted_df_moving_not_together['distance'][10:20])\n",
    "print(sorted_df_moving_not_together['dist_comp_n_1_2'][10:20])\n",
    "print(sorted_df_moving_not_together['dist_comp'][10:20])\n"
   ]
  },
  {
   "cell_type": "code",
   "execution_count": 21,
   "metadata": {},
   "outputs": [
    {
     "name": "stderr",
     "output_type": "stream",
     "text": [
      "/Users/saramelvin/anaconda3/lib/python3.6/site-packages/ipykernel_launcher.py:1: SettingWithCopyWarning: \n",
      "A value is trying to be set on a copy of a slice from a DataFrame.\n",
      "Try using .loc[row_indexer,col_indexer] = value instead\n",
      "\n",
      "See the caveats in the documentation: http://pandas.pydata.org/pandas-docs/stable/indexing.html#indexing-view-versus-copy\n",
      "  \"\"\"Entry point for launching an IPython kernel.\n"
     ]
    }
   ],
   "source": [
    "sorted_df_moving_not_together['COLREG'] = 'NO' #initialize"
   ]
  },
  {
   "cell_type": "code",
   "execution_count": 22,
   "metadata": {},
   "outputs": [
    {
     "name": "stdout",
     "output_type": "stream",
     "text": [
      "  COLREG  count\n",
      "0     NO   9934\n"
     ]
    }
   ],
   "source": [
    "grouped_df = sorted_df_moving_not_together.groupby('COLREG')['COLREG'].size().reset_index(name=\"count\")\n",
    "#How many have only one data point for the proximity alert?\n",
    "print(grouped_df)"
   ]
  },
  {
   "cell_type": "code",
   "execution_count": 23,
   "metadata": {
    "scrolled": true
   },
   "outputs": [
    {
     "name": "stderr",
     "output_type": "stream",
     "text": [
      "/Users/saramelvin/anaconda3/lib/python3.6/site-packages/pandas/core/indexing.py:543: SettingWithCopyWarning: \n",
      "A value is trying to be set on a copy of a slice from a DataFrame.\n",
      "Try using .loc[row_indexer,col_indexer] = value instead\n",
      "\n",
      "See the caveats in the documentation: http://pandas.pydata.org/pandas-docs/stable/indexing.html#indexing-view-versus-copy\n",
      "  self.obj[item] = s\n"
     ]
    }
   ],
   "source": [
    "#when the ships are moving towards one another in their course -- crossing manner\n",
    "crit = sorted_df_moving_not_together['dist_comp_n_1_2'] <  sorted_df_moving_not_together['distance'] #the new distance\n",
    "#crossing_df = sorted_df_moving_not_together[crit]\n",
    "#crossing_df.shape\n",
    "sorted_df_moving_not_together.loc[crit, 'COLREG'] = 'CROSSING'"
   ]
  },
  {
   "cell_type": "code",
   "execution_count": 24,
   "metadata": {},
   "outputs": [
    {
     "name": "stdout",
     "output_type": "stream",
     "text": [
      "     COLREG  count\n",
      "0  CROSSING    497\n",
      "1        NO   9437\n"
     ]
    }
   ],
   "source": [
    "grouped_df = sorted_df_moving_not_together.groupby('COLREG')['COLREG'].size().reset_index(name=\"count\")\n",
    "#How many have only one data point for the proximity alert?\n",
    "print(grouped_df)"
   ]
  },
  {
   "cell_type": "code",
   "execution_count": 25,
   "metadata": {},
   "outputs": [
    {
     "name": "stderr",
     "output_type": "stream",
     "text": [
      "/Users/saramelvin/anaconda3/lib/python3.6/site-packages/pandas/core/indexing.py:543: SettingWithCopyWarning: \n",
      "A value is trying to be set on a copy of a slice from a DataFrame.\n",
      "Try using .loc[row_indexer,col_indexer] = value instead\n",
      "\n",
      "See the caveats in the documentation: http://pandas.pydata.org/pandas-docs/stable/indexing.html#indexing-view-versus-copy\n",
      "  self.obj[item] = s\n"
     ]
    }
   ],
   "source": [
    "#now can find head on collisions (transform all crossings into head-on collisions)\n",
    "CRIT = abs(np.mod(sorted_df_moving_not_together['COG_1'] + 180, 360)-sorted_df_moving_not_together['COG_2'])<=5 #about to hit each other\n",
    "CRIT2 = sorted_df_moving_not_together['COLREG'] == 'CROSSING'\n",
    "sorted_df_moving_not_together.loc[CRIT & CRIT2, 'COLREG'] = 'HEAD-ON'"
   ]
  },
  {
   "cell_type": "code",
   "execution_count": 26,
   "metadata": {},
   "outputs": [
    {
     "name": "stdout",
     "output_type": "stream",
     "text": [
      "     COLREG  count\n",
      "0  CROSSING    492\n",
      "1   HEAD-ON      5\n",
      "2        NO   9437\n"
     ]
    }
   ],
   "source": [
    "grouped_df = sorted_df_moving_not_together.groupby('COLREG')['COLREG'].size().reset_index(name=\"count\")\n",
    "#How many have only one data point for the proximity alert?\n",
    "print(grouped_df) #possible crossings are head on collisions therefore they transitioned to head-on category"
   ]
  },
  {
   "cell_type": "code",
   "execution_count": 34,
   "metadata": {},
   "outputs": [
    {
     "name": "stdout",
     "output_type": "stream",
     "text": [
      "  ship1_in_front  count\n",
      "0            yes   9934\n"
     ]
    },
    {
     "name": "stderr",
     "output_type": "stream",
     "text": [
      "/Users/saramelvin/anaconda3/lib/python3.6/site-packages/ipykernel_launcher.py:3: SettingWithCopyWarning: \n",
      "A value is trying to be set on a copy of a slice from a DataFrame.\n",
      "Try using .loc[row_indexer,col_indexer] = value instead\n",
      "\n",
      "See the caveats in the documentation: http://pandas.pydata.org/pandas-docs/stable/indexing.html#indexing-view-versus-copy\n",
      "  This is separate from the ipykernel package so we can avoid doing imports until\n",
      "/Users/saramelvin/anaconda3/lib/python3.6/site-packages/pandas/core/indexing.py:543: SettingWithCopyWarning: \n",
      "A value is trying to be set on a copy of a slice from a DataFrame.\n",
      "Try using .loc[row_indexer,col_indexer] = value instead\n",
      "\n",
      "See the caveats in the documentation: http://pandas.pydata.org/pandas-docs/stable/indexing.html#indexing-view-versus-copy\n",
      "  self.obj[item] = s\n"
     ]
    }
   ],
   "source": [
    "CRIT1 = sorted_df_moving_not_together['dist_comp']>sorted_df_moving_not_together['distance']\n",
    "\n",
    "sorted_df_moving_not_together['ship1_in_front'] = 'no'\n",
    "sorted_df_moving_not_together.loc[CRIT1, 'ship1_in_front'] = 'yes'\n",
    "\n",
    "grouped_df = sorted_df_moving_not_together.groupby('ship1_in_front')['ship1_in_front'].size().reset_index(name=\"count\")\n",
    "#How many have only one data point for the proximity alert?\n",
    "print(grouped_df)"
   ]
  },
  {
   "cell_type": "code",
   "execution_count": 35,
   "metadata": {},
   "outputs": [
    {
     "name": "stderr",
     "output_type": "stream",
     "text": [
      "/Users/saramelvin/anaconda3/lib/python3.6/site-packages/ipykernel_launcher.py:2: SettingWithCopyWarning: \n",
      "A value is trying to be set on a copy of a slice from a DataFrame.\n",
      "Try using .loc[row_indexer,col_indexer] = value instead\n",
      "\n",
      "See the caveats in the documentation: http://pandas.pydata.org/pandas-docs/stable/indexing.html#indexing-view-versus-copy\n",
      "  \n",
      "/Users/saramelvin/anaconda3/lib/python3.6/site-packages/ipykernel_launcher.py:3: SettingWithCopyWarning: \n",
      "A value is trying to be set on a copy of a slice from a DataFrame.\n",
      "Try using .loc[row_indexer,col_indexer] = value instead\n",
      "\n",
      "See the caveats in the documentation: http://pandas.pydata.org/pandas-docs/stable/indexing.html#indexing-view-versus-copy\n",
      "  This is separate from the ipykernel package so we can avoid doing imports until\n",
      "/Users/saramelvin/anaconda3/lib/python3.6/site-packages/ipykernel_launcher.py:4: SettingWithCopyWarning: \n",
      "A value is trying to be set on a copy of a slice from a DataFrame.\n",
      "Try using .loc[row_indexer,col_indexer] = value instead\n",
      "\n",
      "See the caveats in the documentation: http://pandas.pydata.org/pandas-docs/stable/indexing.html#indexing-view-versus-copy\n",
      "  after removing the cwd from sys.path.\n",
      "/Users/saramelvin/anaconda3/lib/python3.6/site-packages/ipykernel_launcher.py:5: SettingWithCopyWarning: \n",
      "A value is trying to be set on a copy of a slice from a DataFrame.\n",
      "Try using .loc[row_indexer,col_indexer] = value instead\n",
      "\n",
      "See the caveats in the documentation: http://pandas.pydata.org/pandas-docs/stable/indexing.html#indexing-view-versus-copy\n",
      "  \"\"\"\n",
      "/Users/saramelvin/anaconda3/lib/python3.6/site-packages/ipykernel_launcher.py:7: SettingWithCopyWarning: \n",
      "A value is trying to be set on a copy of a slice from a DataFrame.\n",
      "Try using .loc[row_indexer,col_indexer] = value instead\n",
      "\n",
      "See the caveats in the documentation: http://pandas.pydata.org/pandas-docs/stable/indexing.html#indexing-view-versus-copy\n",
      "  import sys\n",
      "/Users/saramelvin/anaconda3/lib/python3.6/site-packages/pandas/core/indexing.py:543: SettingWithCopyWarning: \n",
      "A value is trying to be set on a copy of a slice from a DataFrame.\n",
      "Try using .loc[row_indexer,col_indexer] = value instead\n",
      "\n",
      "See the caveats in the documentation: http://pandas.pydata.org/pandas-docs/stable/indexing.html#indexing-view-versus-copy\n",
      "  self.obj[item] = s\n",
      "/Users/saramelvin/anaconda3/lib/python3.6/site-packages/ipykernel_launcher.py:21: SettingWithCopyWarning: \n",
      "A value is trying to be set on a copy of a slice from a DataFrame.\n",
      "Try using .loc[row_indexer,col_indexer] = value instead\n",
      "\n",
      "See the caveats in the documentation: http://pandas.pydata.org/pandas-docs/stable/indexing.html#indexing-view-versus-copy\n"
     ]
    }
   ],
   "source": [
    "#need to fix the problem where overtake is a parallel path and NOT on the same path\n",
    "sorted_df_moving_not_together['FRONT_LON'] = 0.0\n",
    "sorted_df_moving_not_together['FRONT_LAT'] = 0.0\n",
    "sorted_df_moving_not_together['Y_INT'] = 0.0\n",
    "sorted_df_moving_not_together['same_path'] = 'no' #the only value that matters is \"yes\" when I need this column\n",
    "\n",
    "sorted_df_moving_not_together['SLOPE'] = np.divide(sorted_df_moving_not_together['LAT_1_n'] - sorted_df_moving_not_together['LAT_2_n'], sorted_df_moving_not_together['LON_1_n'] - sorted_df_moving_not_together['LON_2_n'])\n",
    "\n",
    "crit1 = sorted_df_moving_not_together['ship1_in_front'] == 'yes' #then ship 1 is in front\n",
    "crit2 = sorted_df_moving_not_together['ship1_in_front'] == 'no' #then ship 2 in is front\n",
    "\n",
    "sorted_df_moving_not_together.loc[crit1, 'FRONT_LON'] = sorted_df_moving_not_together['LON_1']\n",
    "sorted_df_moving_not_together.loc[crit2, 'FRONT_LON'] = sorted_df_moving_not_together['LON_2']\n",
    "\n",
    "sorted_df_moving_not_together.loc[crit1, 'FRONT_LAT'] = sorted_df_moving_not_together['LAT_1']\n",
    "sorted_df_moving_not_together.loc[crit2, 'FRONT_LAT'] = sorted_df_moving_not_together['LAT_2']\n",
    "\n",
    "sorted_df_moving_not_together.loc[crit1, 'Y_INT'] = sorted_df_moving_not_together['LAT_2_n'] #oppositive for back lat\n",
    "sorted_df_moving_not_together.loc[crit2, 'Y_INT'] = sorted_df_moving_not_together['LAT_1_n']\n",
    "\n",
    "sorted_df_moving_not_together['PROJ_LAT'] = np.multiply(sorted_df_moving_not_together['SLOPE'], sorted_df_moving_not_together['FRONT_LON']) + sorted_df_moving_not_together['Y_INT']\n",
    "crit = abs(sorted_df_moving_not_together['PROJ_LAT']-sorted_df_moving_not_together['FRONT_LAT'])<=0.1\n",
    "\n",
    "sorted_df_moving_not_together.loc[crit, 'same_path'] = 'yes'\n"
   ]
  },
  {
   "cell_type": "code",
   "execution_count": 36,
   "metadata": {},
   "outputs": [
    {
     "name": "stderr",
     "output_type": "stream",
     "text": [
      "/Users/saramelvin/anaconda3/lib/python3.6/site-packages/ipykernel_launcher.py:2: SettingWithCopyWarning: \n",
      "A value is trying to be set on a copy of a slice from a DataFrame.\n",
      "Try using .loc[row_indexer,col_indexer] = value instead\n",
      "\n",
      "See the caveats in the documentation: http://pandas.pydata.org/pandas-docs/stable/indexing.html#indexing-view-versus-copy\n",
      "  \n",
      "/Users/saramelvin/anaconda3/lib/python3.6/site-packages/pandas/core/indexing.py:543: SettingWithCopyWarning: \n",
      "A value is trying to be set on a copy of a slice from a DataFrame.\n",
      "Try using .loc[row_indexer,col_indexer] = value instead\n",
      "\n",
      "See the caveats in the documentation: http://pandas.pydata.org/pandas-docs/stable/indexing.html#indexing-view-versus-copy\n",
      "  self.obj[item] = s\n"
     ]
    }
   ],
   "source": [
    "#what ship is in front?\n",
    "sorted_df_moving_not_together['ship1_in_front'] = 'no' #initialize\n",
    "CRIT1 = sorted_df_moving_not_together['dist_comp'] > sorted_df_moving_not_together['distance'] #if yes then ship1 is in front, if no then ship2 is in front\n",
    "sorted_df_moving_not_together.loc[CRIT1, 'ship1_in_front'] = 'yes'\n",
    "\n",
    "#now find when one is overtaking the other\n",
    "crit1 = abs(sorted_df_moving_not_together['COG_1']-sorted_df_moving_not_together['COG_2'])<=5 #going in the same direction\n",
    "crit2a = sorted_df_moving_not_together['ship1_in_front']=='yes' #if ship1 is in front then ship2 could overtake\n",
    "crit2b = sorted_df_moving_not_together['SOG_2']>sorted_df_moving_not_together['SOG_1'] #so check ship2 speed to see if faster\n",
    "crit3a = sorted_df_moving_not_together['ship1_in_front']=='no' #else if ship2 is in front then ship1 can overtake\n",
    "crit3b = sorted_df_moving_not_together['SOG_2']<sorted_df_moving_not_together['SOG_1'] #check that ship1's speed is not faster than ship2\n",
    "crit4 = sorted_df_moving_not_together['same_path'] == 'yes'\n",
    "sorted_df_moving_not_together.loc[crit1 & ((crit2a & crit2b) | (crit3a & crit3b)) & crit4, 'COLREG'] = 'OVERTAKE'"
   ]
  },
  {
   "cell_type": "code",
   "execution_count": 37,
   "metadata": {},
   "outputs": [
    {
     "name": "stdout",
     "output_type": "stream",
     "text": [
      "     COLREG  count\n",
      "0  CROSSING    492\n",
      "1   HEAD-ON      5\n",
      "2        NO   9435\n",
      "3  OVERTAKE      2\n"
     ]
    }
   ],
   "source": [
    "grouped_df = sorted_df_moving_not_together.groupby('COLREG')['COLREG'].size().reset_index(name=\"count\")\n",
    "#How many have only one data point for the proximity alert?\n",
    "print(grouped_df)"
   ]
  },
  {
   "cell_type": "code",
   "execution_count": 39,
   "metadata": {},
   "outputs": [
    {
     "data": {
      "text/html": [
       "<div>\n",
       "<style scoped>\n",
       "    .dataframe tbody tr th:only-of-type {\n",
       "        vertical-align: middle;\n",
       "    }\n",
       "\n",
       "    .dataframe tbody tr th {\n",
       "        vertical-align: top;\n",
       "    }\n",
       "\n",
       "    .dataframe thead th {\n",
       "        text-align: right;\n",
       "    }\n",
       "</style>\n",
       "<table border=\"1\" class=\"dataframe\">\n",
       "  <thead>\n",
       "    <tr style=\"text-align: right;\">\n",
       "      <th></th>\n",
       "      <th>MMSI_1</th>\n",
       "      <th>MMSI_2</th>\n",
       "      <th>LAT_1</th>\n",
       "      <th>LON_1</th>\n",
       "      <th>LAT_2</th>\n",
       "      <th>LON_2</th>\n",
       "      <th>COG_1</th>\n",
       "      <th>COG_2</th>\n",
       "      <th>SOG_1</th>\n",
       "      <th>SOG_2</th>\n",
       "      <th>ship1_in_front</th>\n",
       "      <th>same_path</th>\n",
       "    </tr>\n",
       "  </thead>\n",
       "  <tbody>\n",
       "    <tr>\n",
       "      <th>3256</th>\n",
       "      <td>239998000</td>\n",
       "      <td>538002090</td>\n",
       "      <td>30.77432</td>\n",
       "      <td>-117.31007</td>\n",
       "      <td>30.77450</td>\n",
       "      <td>-117.31103</td>\n",
       "      <td>122.0</td>\n",
       "      <td>123.0</td>\n",
       "      <td>1.1</td>\n",
       "      <td>1.3</td>\n",
       "      <td>yes</td>\n",
       "      <td>yes</td>\n",
       "    </tr>\n",
       "    <tr>\n",
       "      <th>85586</th>\n",
       "      <td>636014465</td>\n",
       "      <td>636014804</td>\n",
       "      <td>32.04069</td>\n",
       "      <td>-119.00154</td>\n",
       "      <td>32.03927</td>\n",
       "      <td>-119.00065</td>\n",
       "      <td>116.7</td>\n",
       "      <td>115.5</td>\n",
       "      <td>5.1</td>\n",
       "      <td>5.3</td>\n",
       "      <td>yes</td>\n",
       "      <td>yes</td>\n",
       "    </tr>\n",
       "  </tbody>\n",
       "</table>\n",
       "</div>"
      ],
      "text/plain": [
       "          MMSI_1     MMSI_2     LAT_1      LON_1     LAT_2      LON_2  COG_1  \\\n",
       "3256   239998000  538002090  30.77432 -117.31007  30.77450 -117.31103  122.0   \n",
       "85586  636014465  636014804  32.04069 -119.00154  32.03927 -119.00065  116.7   \n",
       "\n",
       "       COG_2  SOG_1  SOG_2 ship1_in_front same_path  \n",
       "3256   123.0    1.1    1.3            yes       yes  \n",
       "85586  115.5    5.1    5.3            yes       yes  "
      ]
     },
     "execution_count": 39,
     "metadata": {},
     "output_type": "execute_result"
    }
   ],
   "source": [
    "CRIT = sorted_df_moving_not_together['COLREG']=='OVERTAKE'\n",
    "head_on_df = sorted_df_moving_not_together[CRIT]\n",
    "#head_on_df.shape\n",
    "#print(head_on_df)\n",
    "head_on_df[['MMSI_1','MMSI_2', 'LAT_1', 'LON_1', 'LAT_2', 'LON_2','COG_1', 'COG_2', 'SOG_1', 'SOG_2', 'ship1_in_front', 'same_path']]"
   ]
  },
  {
   "cell_type": "code",
   "execution_count": 31,
   "metadata": {},
   "outputs": [
    {
     "data": {
      "text/html": [
       "<div>\n",
       "<style scoped>\n",
       "    .dataframe tbody tr th:only-of-type {\n",
       "        vertical-align: middle;\n",
       "    }\n",
       "\n",
       "    .dataframe tbody tr th {\n",
       "        vertical-align: top;\n",
       "    }\n",
       "\n",
       "    .dataframe thead th {\n",
       "        text-align: right;\n",
       "    }\n",
       "</style>\n",
       "<table border=\"1\" class=\"dataframe\">\n",
       "  <thead>\n",
       "    <tr style=\"text-align: right;\">\n",
       "      <th></th>\n",
       "      <th>MMSI_1</th>\n",
       "      <th>MMSI_2</th>\n",
       "      <th>LAT_1</th>\n",
       "      <th>LON_1</th>\n",
       "      <th>LAT_2</th>\n",
       "      <th>LON_2</th>\n",
       "      <th>COG_1</th>\n",
       "      <th>COG_2</th>\n",
       "      <th>SOG_1</th>\n",
       "      <th>SOG_2</th>\n",
       "    </tr>\n",
       "  </thead>\n",
       "  <tbody>\n",
       "    <tr>\n",
       "      <th>330</th>\n",
       "      <td>201216315</td>\n",
       "      <td>309933000</td>\n",
       "      <td>31.82658</td>\n",
       "      <td>-116.66772</td>\n",
       "      <td>31.82623</td>\n",
       "      <td>-116.67341</td>\n",
       "      <td>-172.7</td>\n",
       "      <td>91.6</td>\n",
       "      <td>10.1</td>\n",
       "      <td>7.1</td>\n",
       "    </tr>\n",
       "    <tr>\n",
       "      <th>334</th>\n",
       "      <td>201216315</td>\n",
       "      <td>309933000</td>\n",
       "      <td>31.83499</td>\n",
       "      <td>-116.64151</td>\n",
       "      <td>31.83063</td>\n",
       "      <td>-116.63458</td>\n",
       "      <td>61.4</td>\n",
       "      <td>74.2</td>\n",
       "      <td>9.9</td>\n",
       "      <td>10.2</td>\n",
       "    </tr>\n",
       "    <tr>\n",
       "      <th>402</th>\n",
       "      <td>212871000</td>\n",
       "      <td>239998000</td>\n",
       "      <td>31.30923</td>\n",
       "      <td>-118.19778</td>\n",
       "      <td>31.30950</td>\n",
       "      <td>-118.19777</td>\n",
       "      <td>140.0</td>\n",
       "      <td>140.0</td>\n",
       "      <td>2.0</td>\n",
       "      <td>1.9</td>\n",
       "    </tr>\n",
       "  </tbody>\n",
       "</table>\n",
       "</div>"
      ],
      "text/plain": [
       "        MMSI_1     MMSI_2     LAT_1      LON_1     LAT_2      LON_2  COG_1  \\\n",
       "330  201216315  309933000  31.82658 -116.66772  31.82623 -116.67341 -172.7   \n",
       "334  201216315  309933000  31.83499 -116.64151  31.83063 -116.63458   61.4   \n",
       "402  212871000  239998000  31.30923 -118.19778  31.30950 -118.19777  140.0   \n",
       "\n",
       "     COG_2  SOG_1  SOG_2  \n",
       "330   91.6   10.1    7.1  \n",
       "334   74.2    9.9   10.2  \n",
       "402  140.0    2.0    1.9  "
      ]
     },
     "execution_count": 31,
     "metadata": {},
     "output_type": "execute_result"
    }
   ],
   "source": [
    "CRIT = sorted_df_moving_not_together['COLREG']=='CROSSING'\n",
    "head_on_df = sorted_df_moving_not_together[CRIT]\n",
    "#head_on_df.shape\n",
    "#print(head_on_df)\n",
    "head_on_df[['MMSI_1','MMSI_2', 'LAT_1', 'LON_1', 'LAT_2', 'LON_2','COG_1', 'COG_2', 'SOG_1', 'SOG_2']][0:3]"
   ]
  },
  {
   "cell_type": "code",
   "execution_count": 32,
   "metadata": {},
   "outputs": [
    {
     "data": {
      "text/html": [
       "<div>\n",
       "<style scoped>\n",
       "    .dataframe tbody tr th:only-of-type {\n",
       "        vertical-align: middle;\n",
       "    }\n",
       "\n",
       "    .dataframe tbody tr th {\n",
       "        vertical-align: top;\n",
       "    }\n",
       "\n",
       "    .dataframe thead th {\n",
       "        text-align: right;\n",
       "    }\n",
       "</style>\n",
       "<table border=\"1\" class=\"dataframe\">\n",
       "  <thead>\n",
       "    <tr style=\"text-align: right;\">\n",
       "      <th></th>\n",
       "      <th>MMSI_1</th>\n",
       "      <th>MMSI_2</th>\n",
       "      <th>LAT_1</th>\n",
       "      <th>LON_1</th>\n",
       "      <th>LAT_2</th>\n",
       "      <th>LON_2</th>\n",
       "      <th>COG_1</th>\n",
       "      <th>COG_2</th>\n",
       "      <th>SOG_1</th>\n",
       "      <th>SOG_2</th>\n",
       "    </tr>\n",
       "  </thead>\n",
       "  <tbody>\n",
       "    <tr>\n",
       "      <th>53611</th>\n",
       "      <td>338184311</td>\n",
       "      <td>367008510</td>\n",
       "      <td>33.34690</td>\n",
       "      <td>-118.32435</td>\n",
       "      <td>33.34456</td>\n",
       "      <td>-118.32213</td>\n",
       "      <td>-154.6</td>\n",
       "      <td>20.9</td>\n",
       "      <td>0.2</td>\n",
       "      <td>0.2</td>\n",
       "    </tr>\n",
       "    <tr>\n",
       "      <th>56858</th>\n",
       "      <td>343961455</td>\n",
       "      <td>538005177</td>\n",
       "      <td>32.34043</td>\n",
       "      <td>-117.09482</td>\n",
       "      <td>32.34246</td>\n",
       "      <td>-117.09623</td>\n",
       "      <td>-143.4</td>\n",
       "      <td>39.0</td>\n",
       "      <td>0.9</td>\n",
       "      <td>0.2</td>\n",
       "    </tr>\n",
       "    <tr>\n",
       "      <th>64242</th>\n",
       "      <td>367047150</td>\n",
       "      <td>367645170</td>\n",
       "      <td>46.04823</td>\n",
       "      <td>-118.94959</td>\n",
       "      <td>46.04156</td>\n",
       "      <td>-118.94978</td>\n",
       "      <td>192.1</td>\n",
       "      <td>10.5</td>\n",
       "      <td>7.9</td>\n",
       "      <td>7.9</td>\n",
       "    </tr>\n",
       "  </tbody>\n",
       "</table>\n",
       "</div>"
      ],
      "text/plain": [
       "          MMSI_1     MMSI_2     LAT_1      LON_1     LAT_2      LON_2  COG_1  \\\n",
       "53611  338184311  367008510  33.34690 -118.32435  33.34456 -118.32213 -154.6   \n",
       "56858  343961455  538005177  32.34043 -117.09482  32.34246 -117.09623 -143.4   \n",
       "64242  367047150  367645170  46.04823 -118.94959  46.04156 -118.94978  192.1   \n",
       "\n",
       "       COG_2  SOG_1  SOG_2  \n",
       "53611   20.9    0.2    0.2  \n",
       "56858   39.0    0.9    0.2  \n",
       "64242   10.5    7.9    7.9  "
      ]
     },
     "execution_count": 32,
     "metadata": {},
     "output_type": "execute_result"
    }
   ],
   "source": [
    "CRIT = sorted_df_moving_not_together['COLREG']=='HEAD-ON'\n",
    "head_on_df = sorted_df_moving_not_together[CRIT]\n",
    "#head_on_df.shape\n",
    "#print(head_on_df)\n",
    "head_on_df[['MMSI_1','MMSI_2', 'LAT_1', 'LON_1', 'LAT_2', 'LON_2','COG_1', 'COG_2', 'SOG_1', 'SOG_2']][0:3]"
   ]
  },
  {
   "cell_type": "code",
   "execution_count": null,
   "metadata": {},
   "outputs": [],
   "source": [
    "#save what we have to visualize\n",
    "out_path = '../Data/OUTPUT.xlsx'\n",
    "writer = pd.ExcelWriter(out_path)\n",
    "sorted_df_moving_not_together.to_excel(writer, 'COLREG_all') #changed from COLREG_cross_head_on\n",
    "writer.save()"
   ]
  }
 ],
 "metadata": {
  "kernelspec": {
   "display_name": "Python 3",
   "language": "python",
   "name": "python3"
  },
  "language_info": {
   "codemirror_mode": {
    "name": "ipython",
    "version": 3
   },
   "file_extension": ".py",
   "mimetype": "text/x-python",
   "name": "python",
   "nbconvert_exporter": "python",
   "pygments_lexer": "ipython3",
   "version": "3.7.0"
  }
 },
 "nbformat": 4,
 "nbformat_minor": 2
}
